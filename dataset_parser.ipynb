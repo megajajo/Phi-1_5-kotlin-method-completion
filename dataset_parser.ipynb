{
 "cells": [
  {
   "metadata": {},
   "cell_type": "code",
   "source": "from pathlib import Path",
   "id": "ca7ecbf2db47e991",
   "outputs": [],
   "execution_count": null
  },
  {
   "metadata": {},
   "cell_type": "code",
   "source": [
    "def count_brackets(line):\n",
    "    cnt = 0\n",
    "    cnt+=(line.count(\"(\") + line.count(\"[\") + line.count(\"{\"))\n",
    "    cnt-=(line.count(\")\") + line.count(\"]\") + line.count(\"}\"))\n",
    "    return cnt"
   ],
   "id": "4034ad42e491bfa6",
   "outputs": [],
   "execution_count": null
  },
  {
   "metadata": {},
   "cell_type": "code",
   "source": [
    "def functions_from_kotlin_file(file_path):\n",
    "    try:\n",
    "        with open(file_path, 'r') as file:\n",
    "            lines = file.readlines()\n",
    "    except Exception as e:\n",
    "        print(\"Error reading the file:\", e)\n",
    "        return []\n",
    "    \n",
    "    currFunc = \"\"\n",
    "    bracketing = 0\n",
    "    functions = []\n",
    "    isInDecl = False #so we count only brackets related to function definitions, not from classes/nested functions etc.\n",
    "    for x in lines: \n",
    "        if \"fun \" in x and not isInDecl:\n",
    "            isInDecl = True\n",
    "        if isInDecl:\n",
    "            currFunc += x\n",
    "            bracketing+=count_brackets(x)\n",
    "            if bracketing==0:\n",
    "                functions.append(currFunc)\n",
    "                currFunc = \"\"\n",
    "                isInDecl = False\n",
    "    \n",
    "    return functions"
   ],
   "id": "initial_id",
   "outputs": [],
   "execution_count": null
  },
  {
   "metadata": {},
   "cell_type": "code",
   "source": [
    "def functions_from_dir(directory):\n",
    "    functions = []\n",
    "    for file_path in Path(directory).rglob('*.kt'):\n",
    "        functions += functions_from_kotlin_file(file_path)\n",
    "    return functions"
   ],
   "id": "5b6e41e2c7d2abcc",
   "outputs": [],
   "execution_count": null
  },
  {
   "metadata": {},
   "cell_type": "code",
   "source": [
    "functions = functions_from_dir(\"Kotlin\")\n",
    "functions"
   ],
   "id": "8f2a0cac06715f60",
   "outputs": [],
   "execution_count": null
  },
  {
   "metadata": {},
   "cell_type": "code",
   "source": [
    "for i in range(0,len(functions)):\n",
    "    functions[i] = functions[i][functions[i].find(\"fun\"):]"
   ],
   "id": "35c2c05377a6cba6",
   "outputs": [],
   "execution_count": null
  },
  {
   "metadata": {},
   "cell_type": "code",
   "source": [
    "import json\n",
    "\n",
    "file_path = \"data.json\"\n",
    "\n",
    "with open(file_path, 'w') as json_file:\n",
    "    for x in functions:\n",
    "        firstBracket = x.find(\"{\")\n",
    "        firstEquals = x.find(\"=\")\n",
    "        if (firstBracket >= 0 and firstBracket <= firstEquals) or (firstBracket >= 0 and firstEquals<0):\n",
    "            name = x[:firstBracket-1]\n",
    "            body = x[firstBracket:]\n",
    "            json_file.write(json.dumps({'Prompt':name, 'Completion':body}) + '\\n')\n",
    "        elif (firstEquals >= 0 and firstBracket >= firstEquals) or (firstBracket < 0 and firstEquals>=0):\n",
    "            name = x[:firstEquals-1]\n",
    "            body = x[firstEquals:]\n",
    "            json_file.write(json.dumps({'Prompt':name, 'Completion':body}) + '\\n')\n"
   ],
   "id": "a1d0e1a863a75e0",
   "outputs": [],
   "execution_count": null
  }
 ],
 "metadata": {
  "kernelspec": {
   "display_name": "Python 3",
   "language": "python",
   "name": "python3"
  },
  "language_info": {
   "codemirror_mode": {
    "name": "ipython",
    "version": 2
   },
   "file_extension": ".py",
   "mimetype": "text/x-python",
   "name": "python",
   "nbconvert_exporter": "python",
   "pygments_lexer": "ipython2",
   "version": "2.7.6"
  }
 },
 "nbformat": 4,
 "nbformat_minor": 5
}
